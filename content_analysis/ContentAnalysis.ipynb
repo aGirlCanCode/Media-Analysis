{
 "cells": [
  {
   "cell_type": "code",
   "execution_count": 1,
   "metadata": {},
   "outputs": [],
   "source": [
    "import pickle\n",
    "from nltk.corpus import wordnet as wn\n",
    "import spacy\n",
    "from allennlp.predictors.predictor import Predictor\n",
    "\n",
    "from data import *"
   ]
  },
  {
   "cell_type": "code",
   "execution_count": 2,
   "metadata": {},
   "outputs": [
    {
     "name": "stderr",
     "output_type": "stream",
     "text": [
      "Some weights of BertModel were not initialized from the model checkpoint at SpanBERT/spanbert-large-cased and are newly initialized: ['bert.pooler.dense.weight', 'bert.pooler.dense.bias']\n",
      "You should probably TRAIN this model on a down-stream task to be able to use it for predictions and inference.\n"
     ]
    }
   ],
   "source": [
    "predictor = Predictor.from_path(\"https://storage.googleapis.com/allennlp-public-models/coref-spanbert-large-2021.03.10.tar.gz\")"
   ]
  },
  {
   "cell_type": "markdown",
   "metadata": {},
   "source": [
    "LOAD ALL ARTICLES"
   ]
  },
  {
   "cell_type": "code",
   "execution_count": 6,
   "metadata": {},
   "outputs": [],
   "source": [
    "f = open(\"data/NDTVArticleText.pickle\", \"rb\")\n",
    "NDTV_articles = pickle.load(f)\n",
    "f.close()"
   ]
  },
  {
   "cell_type": "code",
   "execution_count": 4,
   "metadata": {},
   "outputs": [],
   "source": [
    "f = open(\"data/HinduNewsArticleText.pickle\", \"rb\")\n",
    "Hindu_articles = pickle.load(f)\n",
    "f.close()"
   ]
  },
  {
   "cell_type": "code",
   "execution_count": 55,
   "metadata": {},
   "outputs": [],
   "source": [
    "f = open(\"data/HTNewsArticleText.pickle\", 'rb')\n",
    "HT_articles = pickle.load(f)\n",
    "f.close()"
   ]
  },
  {
   "cell_type": "code",
   "execution_count": 56,
   "metadata": {},
   "outputs": [],
   "source": [
    "f = open(\"data/IndiaNewsArticleText.pickle\", 'rb')\n",
    "IndiaNews_articles = pickle.load(f)\n",
    "f.close()"
   ]
  },
  {
   "cell_type": "markdown",
   "metadata": {},
   "source": [
    "COREFERENCE RESOLUTION USING ALLEN NLP"
   ]
  },
  {
   "cell_type": "code",
   "execution_count": 7,
   "metadata": {},
   "outputs": [],
   "source": [
    "for val in NDTV_articles.values():\n",
    "    text = val['Text']\n",
    "    val['Text'] = predictor.coref_resolved(text)\n",
    "\n",
    "for val in Hindu_articles.values():\n",
    "    text = val['Text']\n",
    "    val['Text'] = predictor.coref_resolved(text)\n",
    "\n",
    "for val in HT_articles.values():\n",
    "    text = val['Text']\n",
    "    val['Text'] = predictor.coref_resolved(text)\n",
    "\n",
    "for val in IndiaNews_articles.values():\n",
    "    text = val['Text']\n",
    "    val['Text'] = predictor.coref_resolved(text)"
   ]
  },
  {
   "cell_type": "code",
   "execution_count": 6,
   "metadata": {},
   "outputs": [],
   "source": [
    "f = open('data/UpdHinduNewsText', 'wb')\n",
    "pickle.dump(Hindu_articles, f)\n",
    "f.close()\n",
    "\n",
    "f = open('data/UpdNDTVNewsText', 'wb')\n",
    "pickle.dump(NDTV_articles, f)\n",
    "f.close()\n",
    "\n",
    "f = open('data/UpdHTNewsText', 'wb')\n",
    "pickle.dump(HT_articles, f)\n",
    "f.close()\n",
    "\n",
    "f = open('data/UpdIndiaNewsText', 'wb')\n",
    "pickle.dump(IndiaNews_articles, f)\n",
    "f.close()"
   ]
  },
  {
   "cell_type": "markdown",
   "metadata": {},
   "source": [
    "IDENTIFY ALL NOUN HEADS \n",
    "Extract all policy related common nouns"
   ]
  },
  {
   "cell_type": "code",
   "execution_count": 7,
   "metadata": {},
   "outputs": [],
   "source": [
    "nlp = spacy.load('en_core_web_trf')"
   ]
  },
  {
   "cell_type": "code",
   "execution_count": 8,
   "metadata": {},
   "outputs": [],
   "source": [
    "ndtv_noun_heads = []\n",
    "for val in NDTV_articles.values():\n",
    "    doc = nlp(val['Text'])\n",
    "    for chunk in doc.noun_chunks:\n",
    "        if chunk.text not in ndtv_noun_heads:\n",
    "            ndtv_noun_heads.append(chunk.text)\n",
    "\n",
    "hindu_noun_heads = []\n",
    "for val in Hindu_articles.values():\n",
    "    doc = nlp(val['Text'])\n",
    "    for chunk in doc.noun_chunks:\n",
    "        if chunk.text not in hindu_noun_heads:\n",
    "            hindu_noun_heads.append(chunk.text)\n",
    "\n",
    "ht_noun_heads = []\n",
    "for val in HT_articles.values():\n",
    "    doc = nlp(val['Text'])\n",
    "    for chunk in doc.noun_chunks:\n",
    "        if chunk.text not in ht_noun_heads:\n",
    "            ht_noun_heads.append(chunk.text)\n",
    "\n",
    "indiaNews_noun_heads = []\n",
    "for val in IndiaNews_articles.values():\n",
    "    doc = nlp(val['Text'])\n",
    "    for chunk in doc.noun_chunks:\n",
    "        if chunk.text not in indiaNews_noun_heads:\n",
    "            indiaNews_noun_heads.append(chunk.text)"
   ]
  },
  {
   "cell_type": "code",
   "execution_count": 53,
   "metadata": {},
   "outputs": [],
   "source": [
    "#Identified policy terms\n",
    "common_nouns_policy = ['programmes', 'programme', 'scheme', 'schemes', 'initiative', 'initiatives', 'campaign', 'campaigns', 'plan', 'plans', 'policies', 'policy', 'rights', 'law', 'codes', 'code', 'acts', 'act', 'measures', 'proposal', 'program', 'benefits', 'portal', 'funds', 'fund', 'care', 'yojna', 'drives', 'drive', 'abhiyan', 'regulation', 'regulations', 'relief', 'reform', 'reforms']"
   ]
  },
  {
   "cell_type": "code",
   "execution_count": 54,
   "metadata": {},
   "outputs": [],
   "source": [
    "f = open('data/CommonNounPol.pickle', 'wb')\n",
    "pickle.dump(common_nouns_policy, f)\n",
    "f.close()"
   ]
  },
  {
   "cell_type": "code",
   "execution_count": 5,
   "metadata": {},
   "outputs": [
    {
     "name": "stdout",
     "output_type": "stream",
     "text": [
      "programmes\n",
      "['program', 'programme']\n",
      "['course_of_study', 'program', 'programme', 'curriculum', 'syllabus']\n",
      "['broadcast', 'program', 'programme']\n",
      "['program', 'programme', 'computer_program', 'computer_programme']\n",
      "['program', 'programme']\n",
      "['plan', 'program', 'programme']\n",
      "['program', 'programme']\n",
      "['program', 'programme']\n",
      "['program', 'programme']\n",
      "scheme\n",
      "['scheme', 'strategy']\n",
      "['dodge', 'dodging', 'scheme']\n",
      "['system', 'scheme']\n",
      "['schema', 'scheme']\n",
      "['outline', 'schema', 'scheme']\n",
      "['scheme', 'intrigue', 'connive']\n",
      "['scheme']\n",
      "initiative\n",
      "['enterprise', 'enterprisingness', 'initiative', 'go-ahead']\n",
      "['first_step', 'initiative', 'opening_move', 'opening']\n",
      "['inaugural', 'initiative', 'initiatory', 'first', 'maiden']\n",
      "campaign\n",
      "['political_campaign', 'campaign', 'run']\n",
      "['campaign', 'cause', 'crusade', 'drive', 'movement', 'effort']\n",
      "['campaign', 'military_campaign']\n",
      "['campaign', 'hunting_expedition', 'safari']\n",
      "['campaign', 'run']\n",
      "['crusade', 'fight', 'press', 'campaign', 'push', 'agitate']\n",
      "['campaign', 'take_the_field']\n",
      "plan\n",
      "['plan', 'program', 'programme']\n",
      "['design', 'plan']\n",
      "['plan', 'architectural_plan']\n",
      "['plan', 'be_after']\n",
      "['plan']\n",
      "['plan', 'project', 'contrive', 'design']\n",
      "['design', 'plan']\n",
      "policies\n",
      "['policy']\n",
      "['policy']\n",
      "['policy', 'insurance_policy', 'insurance']\n",
      "rights\n",
      "['right']\n",
      "['right']\n",
      "['right_field', 'rightfield', 'right']\n",
      "['right', 'right_wing']\n",
      "['right', 'right_hand']\n",
      "['right']\n",
      "['right', 'rightfulness']\n",
      "['right']\n",
      "['right', 'compensate', 'redress', 'correct']\n",
      "['right']\n",
      "['right']\n",
      "['correct', 'rectify', 'right']\n",
      "law\n",
      "['law', 'jurisprudence']\n",
      "['law']\n",
      "['law', 'natural_law']\n",
      "['law', 'law_of_nature']\n",
      "['jurisprudence', 'law', 'legal_philosophy']\n",
      "['law', 'practice_of_law']\n",
      "['police', 'police_force', 'constabulary', 'law']\n",
      "codes\n",
      "['code', 'codification']\n",
      "['code']\n",
      "['code', 'computer_code']\n",
      "['code']\n",
      "['code', 'encipher', 'cipher', 'cypher', 'encrypt', 'inscribe', 'write_in_code']\n",
      "['gull', 'dupe', 'slang', 'befool', 'cod', 'fool', 'put_on', 'take_in', 'put_one_over', 'put_one_across']\n",
      "['tease', 'razz', 'rag', 'cod', 'tantalize', 'tantalise', 'bait', 'taunt', 'twit', 'rally', 'ride']\n",
      "acts\n",
      "['Acts_of_the_Apostles', 'Acts']\n",
      "['act', 'enactment']\n",
      "['act', 'deed', 'human_action', 'human_activity']\n",
      "['act']\n",
      "['act', 'routine', 'number', 'turn', 'bit']\n",
      "['act']\n",
      "['act', 'move']\n",
      "['act', 'behave', 'do']\n",
      "['act', 'play', 'represent']\n",
      "['act']\n",
      "['act', 'play', 'act_as']\n",
      "['act']\n",
      "['work', 'act']\n",
      "['act']\n",
      "['dissemble', 'pretend', 'act']\n",
      "['act', 'play', 'roleplay', 'playact']\n",
      "measures\n",
      "['measure', 'step']\n",
      "['measure', 'quantity', 'amount']\n",
      "['bill', 'measure']\n",
      "['measurement', 'measuring', 'measure', 'mensuration']\n",
      "['standard', 'criterion', 'measure', 'touchstone']\n",
      "['meter', 'metre', 'measure', 'beat', 'cadence']\n",
      "['measure', 'bar']\n",
      "['measuring_stick', 'measure', 'measuring_rod']\n",
      "['measure']\n",
      "['measure', 'mensurate', 'measure_out']\n",
      "['quantify', 'measure']\n",
      "['measure']\n",
      "['measure', 'evaluate', 'valuate', 'assess', 'appraise', 'value']\n",
      "proposal\n",
      "['proposal']\n",
      "['marriage_proposal', 'proposal_of_marriage', 'marriage_offer', 'proposal']\n",
      "['proposal', 'proposition']\n",
      "program\n",
      "['plan', 'program', 'programme']\n",
      "['program', 'programme']\n",
      "['broadcast', 'program', 'programme']\n",
      "['platform', 'political_platform', 'political_program', 'program']\n",
      "['program', 'programme']\n",
      "['course_of_study', 'program', 'programme', 'curriculum', 'syllabus']\n",
      "['program', 'programme', 'computer_program', 'computer_programme']\n",
      "['program', 'programme']\n",
      "['program', 'programme']\n",
      "['program', 'programme']\n",
      "benefits\n",
      "['benefit']\n",
      "['benefit', 'welfare']\n",
      "['benefit']\n",
      "['profit', 'gain', 'benefit']\n",
      "['benefit', 'do_good']\n",
      "portal\n",
      "['portal']\n",
      "['portal_site', 'portal']\n",
      "['portal_vein', 'hepatic_portal_vein', 'portal', 'vena_portae']\n",
      "funds\n",
      "['funds', 'finances', 'monetary_resource', 'cash_in_hand', 'pecuniary_resource']\n",
      "['fund', 'monetary_fund']\n",
      "['store', 'stock', 'fund']\n",
      "['investment_company', 'investment_trust', 'investment_firm', 'fund']\n",
      "['fund']\n",
      "['fund']\n",
      "['fund']\n",
      "['fund']\n",
      "['fund']\n",
      "['fund']\n",
      "care\n",
      "['care', 'attention', 'aid', 'tending']\n",
      "['caution', 'precaution', 'care', 'forethought']\n",
      "['concern', 'care', 'fear']\n",
      "['care']\n",
      "['care', 'charge', 'tutelage', 'guardianship']\n",
      "['care', 'maintenance', 'upkeep']\n",
      "['care']\n",
      "['care', 'give_care']\n",
      "['wish', 'care', 'like']\n",
      "['manage', 'deal', 'care', 'handle']\n",
      "['worry', 'care']\n",
      "yojna\n",
      "drives\n",
      "['drive', 'thrust', 'driving_force']\n",
      "['drive']\n",
      "['campaign', 'cause', 'crusade', 'drive', 'movement', 'effort']\n",
      "['driveway', 'drive', 'private_road']\n",
      "['drive']\n",
      "['drive', 'driving']\n",
      "['drive']\n",
      "['drive', 'ride']\n",
      "['drive']\n",
      "['drive']\n",
      "['drive', 'parkway']\n",
      "['drive']\n",
      "['drive']\n",
      "['drive', 'motor']\n",
      "['drive']\n",
      "['force', 'drive', 'ram']\n",
      "['drive']\n",
      "['repel', 'drive', 'repulse', 'force_back', 'push_back', 'beat_back']\n",
      "['drive']\n",
      "['drive']\n",
      "['drive']\n",
      "['tug', 'labor', 'labour', 'push', 'drive']\n",
      "['drive', 'get', 'aim']\n",
      "['drive', 'ride']\n",
      "['drive']\n",
      "['drive']\n",
      "['drive']\n",
      "['drive', 'take']\n",
      "['drive']\n",
      "['drive']\n",
      "['drive']\n",
      "['drive']\n",
      "['drive']\n",
      "['drive']\n",
      "abhiyan\n"
     ]
    }
   ],
   "source": [
    "#Check for all identified nouns synonyms using WordNet\n",
    "for cn in common_nouns_policy:\n",
    "    print(cn)\n",
    "    syn = wn.synsets(cn)\n",
    "    for id in range(len(syn)):\n",
    "        name = syn[id].name()\n",
    "        print(wn.synset(name).lemma_names())\n",
    "    "
   ]
  },
  {
   "cell_type": "markdown",
   "metadata": {},
   "source": [
    "IDENTIFY ALL SPECIFIC POLICY SCHEMES "
   ]
  },
  {
   "cell_type": "code",
   "execution_count": 7,
   "metadata": {},
   "outputs": [],
   "source": [
    "ndtv_policy_names = []\n",
    "for val in NDTV_articles.values():\n",
    "    doc = nlp(val['Text'])\n",
    "    for pol in doc.ents:\n",
    "        if (pol.label_ in ['ORG', 'LAW']) and (pol.text not in ndtv_policy_names):\n",
    "            ndtv_policy_names.append(pol.text)\n",
    "\n",
    "hindu_policy_names = []\n",
    "for val in Hindu_articles.values():\n",
    "    doc = nlp(val['Text'])\n",
    "    for pol in doc.ents:\n",
    "        if (pol.label_ in ['ORG', 'LAW']) and (pol.text not in hindu_policy_names):\n",
    "            hindu_policy_names.append(pol.text)\n",
    "\n",
    "ht_policy_names = []\n",
    "for val in HT_articles.values():\n",
    "    doc = nlp(val['Text'])\n",
    "    for pol in doc.ents:\n",
    "        if (pol.label_ in ['ORG', 'LAW']) and (pol.text not in ht_policy_names):\n",
    "            ht_policy_names.append(pol.text)\n",
    "\n",
    "indiaNews_policy_names = []\n",
    "for val in IndiaNews_articles.values():\n",
    "    doc = nlp(val['Text'])\n",
    "    for pol in doc.ents:\n",
    "        if (pol.label_ in ['ORG', 'LAW']) and (pol.text not in indiaNews_policy_names):\n",
    "            indiaNews_policy_names.append(pol.text)\n"
   ]
  },
  {
   "cell_type": "code",
   "execution_count": 49,
   "metadata": {},
   "outputs": [],
   "source": [
    "#Remove unnecessary terms from the article ORG and LAW terms\n",
    "for name in hindu_policy_names:\n",
    "    if name in remove_words:\n",
    "        hindu_policy_names.remove(name)\n",
    "#Remove unnecessary terms from the article ORG and LAW terms\n",
    "for name in indiaNews_policy_names:\n",
    "    if name in remove_words:\n",
    "        indiaNews_policy_names.remove(name)"
   ]
  },
  {
   "cell_type": "code",
   "execution_count": 51,
   "metadata": {},
   "outputs": [
    {
     "name": "stdout",
     "output_type": "stream",
     "text": [
      "['the National Skill Development Council', 'the National Real Estate Development Council', 'the Directorate of Industrial Safety and Health', 'the BOCW Act 1996', 'the Rural Organisation for Poverty Eradication Services', 'Distress Relief Fund', 'the Citizenship (Amendment) Act', 'the National Disaster Management Act', 'the Uttar Pradesh Epidemic Diseases Act', 'Punjab Disaster Management', 'the Migration Information and Resource Centre', 'MiRC', 'the National Health Mission (NHM', 'the Centre for Migration and Inclusive Development', 'the State Disaster Risk Management Fund', \"the MGNREGA Act's\", 'Relief', 'First Act', 'the Labour Department and Information Department', 'FCI (Food Corporation of India', 'State Health and Family Welfare', 'Rural Development', 'the urban development department', 'the World Health Organisation or Ministry of Health and Family Welfare, Government', 'the Department of Mental Health Education', 'the Department of Psychiatric Social Work', 'the National Food Security Act', 'the Inter-State Council', 'Labour Department', \"Labour Department's\", 'the Prevention of Black-marketing and Maintenance of Supplies of Essential Commodities Act', '@ReutersIndia', 'meagre healthcare resources', 'Essential Commodities Act', 'Women and Child Development', 'District Child Protection Units', \"ChildLine India Foundation's\", 'Indian Council for Cultural Relations', 'Article 21 of the Constitution', 'Essential Services Management', 'Essential Services Management Act', \"Essential Services Management ActEssential Services Management Act's\", 'Distress Distress Relief Fund', 'the Disaster Management Authorities', 'Centre for Migration and Inclusive Development', 'the Mahatma Gandhi National Rural Employment Guarantee Act', 'the International Monetary Fund', 'The National Disaster Management Authority', 'the National Food Securities Act', 'the labour department', 'MGNREGS', 'the Unorganised Workers’', 'Social Security Act', 'the Unorganised Workers’ Social Security Act', 'the Mahatma Gandhi National Rural Employment Guarantee', 'the Odisha Disaster Migration Mapping for Intervention', 'the Ministry of Labour and Employment, Government of India', 'the Migration Ministry', 'National Forum for Homeless Housing Rights', 'the Indian Journal of Labour Economics', 'the the National Register of Citizens', 'State the National Register of Citizens', 'the Public Distribution Sytem', 'Pandemic Relief Bonds', 'Migrant Labourers’ Welfare Committee', 'the Ministry of Labour and Employment', 'the Disaster Response Fund', 'the Empowered Group for Food and Logistics', 'the Health, Medical and Family Welfare', 'HM&FW) Department', 'the Working Group on Migration', 'Municipal Administration and Urban Development', 'Information and Public Relations Department', 'Section 35 of the Disaster Management Act', 'Disaster Management', 'National Register for Citizens', 'Urban Employment Guarantee', 'The Association for Rural Upliftment', 'ARUNA', 'The Association for Rural Upliftment and', 'the Mahatma Gandhi National Rural Employment Guarantee Scheme', 'Haryana Rural Development Fund', 'Goondas Act', 'Employment Guarantee Act', \"the Housing and Urban Affairs Ministry's\", 'The MP Local Area Development fund', 'The All-India United Trade Union Centre', 'the State Emergency Relief Fund', 'the Centre for Employment Studies', 'the India COVID Response Fund', 'the Food Corporations Act 1964', 'the “Food Corruption of India', 'the National Rural Livelihoods Mission', 'National Small Saving Funds Loan', 'Food Management System', 'the Disaster Management (DM', 'Model Tenancy Act', 'the Indian Institute for Human Settlements', 'The State Human Rights Commission', 'Health and Human Services', 'the Union Labour Ministry', 'the Madhya Pradesh Industrial Employment (Standing Orders) Act', 'the Madhya Pradesh Labour Welfare Fund Act', 'the Labour Welfare Board', 'State Disaster Risk Management Fund', 'Centre for Migrants and Inclusive Development', 'Special Protection and Non-Residential Attention', 'the Health and Family Welfare Department', 'Maharashtra Housing and Area Development Authority', 'the Employment Standing Order Act and Industrial Dispute Act', 'the Ministry of Labour & Employment', 'Industrial Dispute Act', 'Disaster Management (DM', 'Disaster Management (', \"Employees' State Insurance Corporation (ESIC\", 'Manipur', 'Relief Fund', 'the Congress Legislative Party', 'the Employment Standing Order Act', 'the Industrial Dispute Act', 'The Ministry of Labour and Employment', 'Assam State Disaster Management Authority', 'the Labour Act', 'the Food and Civil Supplies', 'non-National Food Securities Act', 'the State Disaster Relief Commissioners', 'Migrant Labour Act', 'Section 3 of the Epidemic Diseases Act', 'the Pradhan Mantri Garib Kalyan', 'The One Nation One Ration Card', 'MGNREAGA', 'the Royal Commission on Labour', 'the Plantations Labour Act', 'The Minimum Wages Act', 'the Industrial Employment (Standing Orders) Act', 'the District Rural Development Authority', 'the Central Industrial Security Force', \"the Mahatma Gandhi National Rural Employment Guarantee Scheme's\", 'Mahatma Gandhi Rural Employment Guarantee Act', 'Mevalal', 'MGNREGAMGNREGA', 'International Labour Organization', 'Payment of Wages Act 1934', 'Construction Workers Act 1996', 'Compensation Act', 'Trade Union Act', 'Occupational Safety and Health', 'Remuneration Act', 'the Food Security Act', 'Karnataka State Disaster Management Authority', 'the Fiscal Responsibility and Budgetary Management (FRBM) Act', 'Mahatma Gandhi National Employment Guarantee Act', 'the Migrant Workers Assistance Centre', 'the Fiscal Responsibility', 'the Fiscal Responsibility and Budgetary Management Act', 'the National Rural Employment Guarantee Scheme', 'Periodic Labour Force Survey', 'the National Sample Survey Office of the Ministry of Statistics', 'Programme Implementation', 'the Centre for Monitoring Indian Economy', 'the National Bank for Agriculture and Rural Development', 'Atmanirbhar Bharat Abhiyan |', 'the Credit Guarantee Fund Trust', 'Micro and Small Enterprises', 'Micro and Small Enterprises (CGTMSE', '| Landslide', 'Ravi Uppal | Equity', '₹45,000 crore', 'this Partial Credit Guarantee', 'Power Finance Corporation-Rural Electrification Corporation', 'rural cooperative banks', '₹50 lakh per person insurance', '₹50 lakh compassionate', 'Aatmanirbhar Bharat Abhiyan | Centre', 'Uttarakhand Rural and Migration Commission', 'the Centre for Decentralisation and Development, Institute for Social and Economic Change', 'the Department Social Work', 'the Labour department', 'The National Campaign Committee for Eradication of Bonded Labour', 'the ‘Vande Bharat Mission’', 'Mahatama Gandhi National Rural Employment Guarantee Act', 'The Karnataka Health and Family Welfare Department', \"The Karnataka Health and Family Welfare Department's\", 'the National Migrant Information System', 'the Revenue and Disaster Management', 'Labour Codes', 'the Standing Committee', 'Industrial Relations Code and Occupational Safety, Health &', 'the Standing Committee on Code on Social Security', 'Conventions', 'these Labour Codes', 'the Kashmiri Pandit Welfare Organisation', 'All Parties Migrants Coordination Committee', 'Article 370 and Article 35A', 'NGOS Dhaatri Trust', 'Building and Other Construction Workers’', 'Building and Construction Workers’ Fund', 'Migrant Workmen (Regulation of Employment and Conditions of Service', 'the Centre for the migrant', 'the All-India United Trade Union Centre', 'the Trade Union Coordination Committee', 'the Self Employed Women’s Association', 'the All-India Central Council of Trade Unions', 'the Labour Progressive Federation', 'the United Trade Union Congress', 'National Disaster Management Act', 'the IMW Act of 1979', 'the Migration Commission', 'the Migrant Commission', 'A “Migration Commission', 'National Disaster Relief Fund', 'a Migrant Commission', 'The Chennai Migrant Task Force', 'the Chennai Migrant Task Force', 'Stranded Workers Action Network', 'the Financial Stability and Development Council', 'the Securities and Exchange Board of India, Insurance Regulatory and Development Authority of India and Pension Fund Regulatory and Development Authority', 'the Department of Urban Development', 'Migrant Workers’ Welfare Board', 'the International Organization for Migration', 'the Right to Information', 'the Interstate Migrant Workmen (Regulation of Employment and Conditions of Services', 'the Employment Provident Fund', 'Employees State Insurance Corporation', 'the Migrant Workmen Act', 'Interview | Migrant', 'the Migrant Workers Commission', 'the Agrarian Reforms Act', 'Western Odisha Migration Network', 'The National Disaster Management Act', 'the standing committee on Information Technology', 'Migration Information and Resource Centre', 'the COVID-19 Relief & Upliftment', 'the constitution of the Special Investment Promotion Task Force', 'the Kerala State Disaster Management Authority', 'the COVID-19 Relief and Upliftment Scheme', 'The ISMW Act', 'The National Human Rights Commisson', 'the Department of Minority Welfare', 'the ISMW Act', 'the Mahatama Gandhi National Rural Employment Guarantee Act', 'Migrant Labour Act 1979', 'MRNREGA', 'the Union Ministry of Rural Development', 'the National Rural Livelihood Mission', 'the Society for Social Audit Accountability', 'SSAAT', 'All Party Migrant Cooperation Committee', 'section 17 of DDMA Act', 'The National Rural Employment Guarantee', 'Naryanakhed', 'the District Rural Development Office', 'NERGS', 'Guntur,13', 'CM Soren', 'the Border Roads Organisation', 'Leh - Ladakh', 'Rajeshwari B', 'the “Jharkhand Interstate Migrant Workmen (Regulation of Employment and Conditions of Service', 'Jharkhand Labour', 'the Jal Jeevan Mission', 'the National Skill Development Mission', 'Jal Shakti Ministry', 'the Federation of Indian Chamber of Commerce and Industry', 'The Centre for Migration and Inclusive Development', 'the Agriculture Skill Council of India', 'the National Urban Livelihoods Mission', 'National Skill Development Corporation', 'the APMC Act', 'Citizenship (Amendment) Act', 'the ‘Link Workers’ Scheme', 'the State Labour Department', 'The Child Labour Amendment Act', 'the Fiscal Responsibility and Budget Management Act', 'the One Nation One Ration Card', 'The International Organisation for Migration', 'the Building & Other Construction Workers’ Welfare Board', 'District Disaster Management Authorities', 'the Rajasthan Unorganised Labour Union', 'Construction Workers Welfare Cess Act 1996', 'Migration Support Centres', 'Inter State Migrant', 'Industry and Labour', 'The National Commission for the Protection of Child Rights', 'homelessness', 'Article 12 of the UN Convention on the Rights of the Child', 'The Juvenile Justice (Care and Protection) Act', 'the National Policy for Children', 'Realization of Children’s Rights Index', '149th', 'The Parliamentary Standing Committee on Labour', 'Social Security Code Bill', 'the labour welfare board', 'Social Security Code Bill 2019', 'National Labour Institute', 'National Labour Institute (Ministry of Labour & Employment', 'Centre for Gender and Labour', 'The International Organization for Migration', 'National Education Policy', 'the Right to Food Campaign', 'National Commission for Women', 'Transform Rural India Foundation', 'Nation One Ration', 'the One Nation One Ration', 'National Portability Helpline', 'the Women and Child Development Department', 'National Registration of Citizenship', 'the Ministry of Economic Development', 'Migrant Workers’', 'Inter State Migrant Workmen (Regulation of Employment and Conditions of Service', 'Construction Workers (Regulation of Employment and Conditions of Service', 'Unorganized Workers’', 'the Revenue and Disaster Management Department', 'the Protection of Child Rights', 'The Labour and Employment Ministry', 'the Labour and Employment Ministry', 'The Rashtriya Raksha University Bill and The Taxation and Other Laws (Relaxation and Amendment of Certain Provisions', 'the Occupational Safety, Health And Working Conditions Code', 'the Code On Social Security', 'The Occupational Safety, Health', 'Inter-State Migrant Workers Act', 'Article 19 of the Constitution', 'The RTI Act', 'Amendment) Act', 'Industrial Safety and Health', 'the Industrial Safety and Health', 'the Code on Social Security', 'the Code on Occupational Safety, Health and Working Conditions', 'the Code on Industrial Relations', 'the Indian Labour Conference', 'ILC', 'Mahatma Gandhi National Rural Employment Act', 'a National Commission on Migration', 'Fifteenth Finance Commission', 'NCM', 'U.N. Commission on Migration', 'The Directorate of Industrial Safety and Training (', 'DISH-II', 'the Contract Labour Act', 'Interstate Migrant Workmen Act', 'the Centre for Livelihoods and Social Innovation of School of Social Work', 'Social Development and Employment', 'Weekenderas', 'State Rural Development', 'Rights Education And Development Centre', 'Child Welfare Committee', 'The Union Labour Ministry', 'Working Conditions Code', 'the Ministry of Women Empowerment and Child Protection', 'Ministry of Women, Family and Community Development', 'the Women, Children and Family Legal Aid Institution', 'Essential Commodities Act Amendment', 'the Self Employed Women’s Association (SEWA', 'the Unorganised Workers Social Security Board', 'SEWA', 'Inequality and Human Development Programme', 'The Citizenship (Amendment) Act', 'the National Employment Policy', 'the Department of Labour and Skills Development', 'The National Employment Policy', 'Citizenship Amendment Act', 'the Janamaithri Suraksha Project', 'the Juvenile Justice (Care and Protection of Children) Act', 'Department of Social Welfare', 'Department of Women and Child Welfare', 'section 363', 'the All India Kisan Sabha Atul Anjan', 'Ministry of Women and Child Development', 'The One Nation', 'the National Social Security Fund', 'Inter-State Migrant Workers Welfare Registration', 'District Rural Development Agency', 'the Immigration and Nationality Act', 'The State Disaster Management Authority', 'The Women and Child Development Department', 'National Population Register', 'the Citizenship (Amendment', 'the International Organisation for Migration', 'the Unorganised Workers’ Social Security Act 2008', 'BNHS Regional Migration Study Centre', 'State Labour Commissioner', 'the District Labour Officers', '‘National Campaign Committee for Eradication of Bonded Labour']\n"
     ]
    }
   ],
   "source": [
    "print(hindu_policy_names)"
   ]
  },
  {
   "cell_type": "code",
   "execution_count": 9,
   "metadata": {},
   "outputs": [
    {
     "name": "stdout",
     "output_type": "stream",
     "text": [
      "['Health', 'COVID-19', 'ANI', 'UP', 'St. Xavier school', 'NDTV', 'Ritvik Company', 'the Kerala State Literacy Mission Authority', 'KSLMA', 'the General Education Department', 'Government of Kerala', 'Authority', 'UDF Government', 'PTI', 'Planning Board', 'the Literacy Mission', 'Changathi', 'the Health Department', 'Police', 'The National Green Tribunal', 'TMC', 'Congress Parliamentary Party', 'Congress', 'Lok Sabha', 'WBPCC', 'Centre', 'Assembly', 'Parliament', 'the United Nations', 'UN', 'the World Economic Forum', 'State', 'PDS', 'Oxfam India', 'National Democratic Alliance', 'NDA', 'Janata Dal', 'United', 'BJP', 'CPI-M', 'Grand Alliance', 'the Grand Alliance', 'CPI(M) Politburo', 'Left', 'RJD', 'CPI', 'the Barisha Club', 'Telegraph India', 'Barisha Club', 'News 18', 'the Government College of Art and Craft', 'the Pradhan Mantri Garib Kalyan Rozgar Abhiyan', 'PMGKRA', 'Railway', 'the Rajya Sabha', 'State Police', 'Section 174', 'Cr', 'Railways', 'Government Railway Police (GRP)/District Police', 'Railway Protection Force', 'GRP/District Police', 'Industries', 'DISHA 1056', 'COVID Frontline Treatment Centre', 'CFLTC', 'the Railway Board', 'Puri-Ghandhidham Express', 'Ouri Okha Express', 'Railway Boards', 'COVID-19 on', 'The Garib Kalyan Rojgar Abhiyaan', 'Indian Railways', 'Garib Kalyan Rojgar Abhiyaan', 'Railways and Commerce and Industry', 'Petroleum', 'Policy, Research and Advocacy', 'Press Trust of India', 'Save the Children', 'Supreme Court', 'The Supreme Court', \"Supreme Court's\", 'the Supreme Court', 'Instagram', 'Pravasi Rojgar', 'NAEC', 'BA Archaeology', 'Mahatma Gandhi University', 'JNU', \"the Marthoma Women's College\", 'the Jawaharlal Nehru University', 'the Civil Services', 'BA Archeology & History exams', 'Agriculture', 'Finance', 'MG university', 'SSLC', 'Mar Thoma College', 'the National Service Scheme', 'NSS', 'Mar Thoma College for Women', 'the Mar Thoma Evangelistic Association of the East', 'the Aga Khan Rural Support Programme', 'Action for Social Advancement', 'Grameen Sahara', 'i-Saksham', 'PRADAN', 'SAATHI-UP', 'SeSTA', 'Seva Mandir', 'Transform Rural India Foundation', 'Ujjwala Yojana', 'Ujjwala', 'PM-KISAN', 'Ministry of Railways', 'Railway Board', 'The Ministry of Railways', 'Asta Arise', 'CREDAI Tamil Nadu', 'FIle', 'All India Bank Employees Association', 'AIBEA', 'Trinamool Congress', 'the National Food Security Act', 'Public Distribution System', 'the Atma Nirbhar Scheme', 'the Disaster Management Act', 'HRD Ministry', 'The HRD Ministry', 'the Ministry of Human Resource Development', 'MHRD', 'WhatsApp', 'the Directorate of Education', 'the HRD Ministry', 'the Rhythm Agricultural Group', 'the Fisheries Department', 'PIL', 'CPIL', 'Centre for Public Interest Litigation', 'Statutes', 'Covid', 'IIM Ahmedabad', 'Indian Institute of Management Ahmedabad', 'IIMA', 'Ketto.org', 'PGP', 'IIM Ahmedabad Survey', 'Prayaaas', 'Right to Education Resource Centre', 'RTERC', 'Ration', 'the Delhi High Court', 'the Building and Construction Workers (BOCW) Act', 'the Inter-State Migrant Workmen Act', 'the 1979 Act', 'the BOCW Act', 'the Ministry of Labour and Employment', 'Cabinet', 'Industrial Development', 'Amity University', 'The Shiv Sena', 'Union', 'Sena', 'Saamana', 'India Migration Now', 'Fino Paytech Ltd.', 'RIS', 'Institute of Human Development', 'Bharatiya Janata Party', 'the Research and Information System for Developing Countries', 'MNREGA', 'Atma Nirbhar Uttar Pradesh Rojgar Abhiyan', 'the Common Service Centers', 'Krishi Vigyan Kendras', 'the International Labour Organization', 'ILO', 'the World Bank', 'the legal services authority', 'Indian Institutes of Technology', 'Indian Institutes of Management', 'Students For Involved Governance and Mutual Action', 'PMO', 'COVID-19 Response Task Force', 'SIGMA', 'Verma', 'the Garib Kalyan Rojgar Abhiyaan', 'PM CARES Fund', 'the PM CARES Fund', 'The Allahabad High Court', 'Uttar Pradesh Congress', 'the Uttar Pradesh State Road Transport Corporation', 'UPSRTC', 'COVID-19 cases', 'the Bombay High Court', 'the High Court', 'The Union Home Ministry', 'the Small Scale Industrial Manufacturers Association', 'Ludhiana Hand Tools Association', 'Ficus Pax', 'Home Ministry', 'Pink', 'Bollywood', 'the Bharatiya Janata Party', 'Eurasia Group', 'Home', 'the Asian Development Research Institute', 'Mahatma Gandhi National Rural Employment Guarantee Act', 'AirAsia', 'AirAsia India', 'Sales and Distribution', 'Boeing', 'Air India', 'Videshi', 'the American India Foundation', 'FIS', 'the Shiv Sena', 'Mumbai Police', 'the Railway Protection Force', 'RPF', 'Shiv Sena', 'Defence', 'MGNREGA', 'COVID-19 has demonstrated', 'the Mahatma Gandhi', 'The Indian Express', 'UPA', 'the Janata Curfew', 'Janta Curfew', 'Article 370', '35A', 'Article 370 & 35A.', 'Jal Jeevan Mission', 'BJD', 'finance commission', 'The Delhi High Court', 'CBI', 'the Building and Other Construction Workers (RE & CS) Act', 'Cess', 'COVID 19', 'the Delhi Building and Other Construction Workers (DBOCW) Welfare Board', 'the DBOCW Welfare Board', 'Board', 'the Labour Department', 'the Anti Corruption Branch', 'Food Security Act', \"The Prime Minister's Office\", 'INC', 'the Uddhav Thackeray government', 'the Nationalist Congress Party', 'NCP', 'Rashtriya Banjara Seva Sangh', 'the Shri Krishna Medical College and Hospital', 'PMCH at', 'IGIMS', 'AIIMS', 'Central', 'Mahatma Gandhi National Rural Employment Guarantee', \"the Supreme Court's\", 'Union Territories', 'the Special Procedures', 'the Human Rights Council', 'Council', 'the Stranded Workers Action Network', 'SWAN', 'Transport', 'non-Shramik Specials', 'High Court', 'the SC Registry', 'SC Registry', 'NLS', 'the National Law School of India (NLS) University', 'AAP', 'NLS Alumni', \"Mission Aahan Vaahan's\", 'Mercy Mission', 'ILoveBlr', 'United Sikhs', 'Bangalore Media Foundation', 'Lokmanya Tilak Shramik', 'the Assam Police', 'the Government Railway Police Force', 'GRPF', 'Shramik', 'the Health Ministry', \"the Prime Minister's Citizen Assistance and Relief in Emergency Situations Fund\", 'Central Govt', 'PM-CARES', 'Aam Aadmi Party', \"'Khaana Chahiye\", 'late@MumbaiPolice', 'Rajya Sabha', 'Agencies', 'the Inter-State Migrant Workmen (Regulation of Employment and Conditions of Service) Act', 'the Labour Ministry', 'Rajdhani', 'COVID-19-induced', 'the Indian Railways', 'The Indian Railways', 'the East-Central Railways', 'Rajdhani Express', \"the Chief Minister's Office\", 'CMO', 'the Government Railway Police', 'GRP', 'Eastern Railway', 'Police Station', 'Malda Medical College', 'the Ministry of Railways', 'the Ministry of Home Affairs', 'Mo-Sha', 'the Trinamool Congress', 'Samajwadi Party', 'Panchayat', 'Gram Sabha', 'Rural development department', 'Antyodaya', 'Triple Talaq', 'the Citizenship Act', 'Mission Gaganyaan', 'The Jal Jeevan Mission', 'a Vyapari Kalyan Board', 'the Consumer Protection Act', 'Chit Fund Law', 'Divyang', 'Aatmanirbhar Bharat', 'Aatmanirbhar Bharat Abhiyan', 'the Citizenship Amendment Act', 'Shramik Special', 'Finance Ministry', 'Reuters', 'the Center for Monitoring Indian Economy', 'Startup India', 'COVID-19,', 'Ministry of Home Affairs', 'Order No 40-3/2020-DM-I(A)', 'Indian Railway parivaar', 'the Railway Hospital', 'North Central Railways', \"Indian Railways'\", 'IRCTC', 'Zonal Railways', 'Law School', 'Air Asia', 'National Law School', 'Air Asia India', 'the National Law School', 'the Alumni Network', 'Department of Humanities and Social Sciences', 'IIT Bombay', 'Bahujan Samaj Party', 'BSP', 'State Governments', 'NGOs', 'the National Human Rights Commission', 'NHRC', 'The Constitution of India', 'Directive Principles', \"The 'Collective Relief Network'\", 'The National Human Rights Commission', 'the Indian Penal Code', 'IPC', 'Disaster Management Act', 'The Indian Railway Catering and Tourism Corporation', 'Shramik (Workers) Special', 'Government Railway Police', 'MEMU/DEMU', 'The Delhi Government', 'Protection of Children from Sexual Offences (POCSO', 'the Chief Minister Helpline', 'the Sanjay Gandhi Postgraduate Institute of Medical Sciences', 'SGPGI', \"King George's Medical University\", 'KGMU', 'Maharashtra Government', 'All India Congress Committee', 'AICC', 'Uttar Pradesh Congress Committee', 'SP', 'the Niti Aayog', 'Jan-Dhan', 'a Migration Commission', 'The Railways', 'North Western Railway', 'the North Western Railway', \"the ''Migration Commission''\", 'Commission', 'RSS', 'Panchjanya', 'Titilagarh Government Hospital', 'Representational', 'Opposition', 'Gujarat High Court', 'The Gujarat High Court', 'Sections 14 and 15', 'sections 14 and', 'the Chhattisgarh Institute of Medical Sciences', 'the SC/ST Act', 'The Uttar Pradesh Government', 'Whitefield Division', 'the Inter-State Migrant Workmen (IMW) Act', 'the Gujarat High Court', 'the IMW Act', 'section 14 and', 'sections 14', 'HC', 'Railway Police', 'the Union Home Ministry', 'the Home Ministry', 'the National Disaster Response Fund', 'NDRF', 'the Railway Ministry', 'SDMC', 'The South Delhi Municipal Corporation', 'The Sharanpur police', 'the NITI Aayog', 'UP State Road Transport Corporation', 'Rajasthan Roadways', 'Toyota', 'the Indian Institute of Management', \"B-school's\", 'IIM-Ahmedabad', 'IIM-A', 'The Times of India', 'Didi Kitchens', 'Union Cabinet', 'the Pradhan Mantri Matsya Sampada Yojana', 'the Food Processing Ministry', \"the Union Cabinet's\", 'The Union Cabinet', 'the Life Insurance Corporation', 'the Aam Admi Party', 'SJP', 'Haryana Roadways Transport Corporation', 'Shambhu Dayal College', 'the Zilla Parishad', 'the Haryana Roadways State Transport', 'ICMR', 'the UP State Road Transport Corporation', '@RailMinIndia', 'SOP', 'Railway Ministry', 'CMIE', 'The Home Ministry', 'UT', 'ministry of home affairs', 'the National Executive Committee', 'MOR', 'MHA', 'UTs', 'the Union of India', 'Skill Development Department', 'Health Department', 'Delhi Police', 'Congress Legislature Party', 'CLP', 'the Uttar Pradesh Vidhan Sabha', 'Chhattisgarh Institute of Medical Sciences', 'CIMS', 'SDM', 'The Indian Railway', 'South Eastern Railway', 'SER', '@INCIndia', 'APSRTC', 'Delhi Pradesh Congress Committee', 'IPC 188', 'the Delhi Police', 'DPCC', 'the Congress Party', 'the All India Congress Committee', 'Jan Dhan', 'RBI', 'NABARD', 'Aadhar', 'the Construction Workers Fund', 'the District Mineral Fund', 'the Compensatory Afforestation Fund', 'CAMPA', 'MSMEs', 'the Press Information Bureau', 'Covid 19', 'MOEFCC', 'Politburo', 'the CPI(M)', 'the National Disaster Response Force', 'the India Meteorological Department', 'IMD', 'NDRF BN Mundali', \"the Prime Minister's National Relief Fund\", 'National Relief Fund', 'Trinamool', 'Border Security Force', 'the Food Ministry', 'NFSA', 'National Food Security Act', 'Food', 'JCB', 'Saifai Medical University', 'COVID', 'Auraiya', 'The UP Police', 'Jamaat-e-Islami', 'National Disaster Management Authority', 'NDMA', 'NMIS', 'The Congress Party', 'the All-India Congress Committee', 'A-nirbhar Bharat', 'the Indian Space Research Organisation', 'ISRO', 'the Madras High Court', 'GoWB', 'Rly Board', 'the Railways Ministry', 'Union Railways', 'Govt', 'Communist Party of India', 'Union Civil Aviation', 'the Samajwadi Party', 'the UP Government', 'Aaadhar', 'The Madras High Court', 'PMO India', 'the Disaster Relief Fund', 'Finance Commission', 'the Second Report', 'The 15th Finance Commission', 'The State Planning Board', 'the Gulati Institute of Finance and Taxation', 'GIFT', 'Simhastha Mela', 'the National Human Rights Commission of India', \"Farmers' Producers Organisation\", 'the Agricultural Produce Market Committee', 'APMC', 'the Essential Commodities Act', 'Micro Food Enterprises', 'The National Animal Disease Control Programme', 'The National Medicinal Plants Board', 'KISAN', 'Fasal Beema Yojana', 'cooperatives', 'Pradhan Mantri', 'Animal Husbandry Infrastructure Development Fund', 'The United Nation', \"the United Nation's\", 'the Bahujan Samaj Party', 'AFP', 'NREGS', 'Commerce and Industry and Raiways', 'COVID-19.', 'The Maharashtra State Road Transport Corporation', 'the Hiranandani Group', 'NAREDCO', 'National Real Estate Development Council', 'Road Transport and Highways', 'the Union Ministry of Home Affairs', 'Station House', 'UP Congress', 'SP Railways', \"the 'Atma Nirbhar Bharat Abhiyan\", 'non-PDS card', 'Pradhan Mantri Awas Yojana', 'MUDRA', 'the Reserve Bank of India', 'DMK', 'CPM', 'PM-CARES Fund', 'The PM-CARES', 'Citizen Assistance and Relief in Emergency Situations Fund Trust', 'Vande Bharat Mission', 'NITI Aayog', 'Micro, Small and Medium Enterprises', 'Citizen Assistance and Relief in Emergency Situations', 'COVID-19 hospitals', 'The PM CARES Fund', 'the Comptroller and Auditor General of India', 'CAG', 'Janata Dal (United', 'non-AC coaches', 'Nationalist Congress Party', 'The Nationalist Congress Party', 'The Trinamool Congress', 'Lockdown 4.0', 'the Goods and Services Tax', 'PM Cares Fund', 'the Right to Information Act', 'the Food Corporation of India', 'PMNRF', 'VC', 'Partition', 'The Street Vendors (Protection of Livelihood and Regulation of Street Vending) Act', 'COVID-19 is not an', 'External Affairs', 'The Stranded Workers Action Network', 'The Ministry of Home Affairs', 'Brown University', 'the Azim Premji University', 'Sion hospital/', \"the Chief Minister's Relief Fund\", 'the Union Ministry of Health and Family Welfare', 'The South Eastern Railway', 'the Eastern Railway', 'Eastern Railways', 'COVID-19, economic activities also need to be stepped up in a calibrated manner, the statement said.', 'PM CARES', 'the Interstate Migrant Workmen Act', 'the Inter-State Migrant Act', 'Act', 'the World Health Organisation', 'IMCT', 'The Bombay High Court', 'Kranti LC', 'the Disaster Management Act, 2005', \"the Supreme Court'\", 'Sarva Hara Jan Andolan', 'Angmehnati Kashtakari Sangharsh Samiti', 'Movement for Peace and Justice Welfare', 'Shramik Mukti Sangathan', 'the UP Police', 'The Railway Ministry', 'Aurangabad Civil Hospital', \"The All India Railwaymen's Federation\", 'AIRF', 'Runwal Group', 'Goodwill Developers', 'Liases Foras', 'The Confederation of Real Estate Developers Associations of India', 'CREDAI', 'BS Yediyurappa', 'the Karnataka BJP', 'Independent India', 'NDTV India', 'Party', 'Health Ministry', 'the Modi Government', \"the Congress Party's\", 'Facebook', 'IIT Gandhinagar', 'CPWD', 'Central Public Works Department', 'Institute', \"a 'Shramik Kalyan Samiti'\", 'Labor Welfare Committee', 'Shramik Kalyan Samiti', 'Nyasa', 'The Shramik Kalyan Samiti', 'Education News', 'the Election Commission', 'the Godi Media', 'the Tablighi Jamaat', 'Election Commission', 'Government', 'PM-Cares', 'the Rail Ministry', 'the Lok Sabha', 'Article 14 of the Constitution of India', 'the PM Cares Fund', 'the Epidemic Diseases Act', 'This Act', 'the Railway Protect Team', 'Central Railway', 'IAS', 'the Union Health Ministry', 'the Delhi Disaster Management Authority', 'LNJP Hospital', 'Bangalore Metro Rail Corporation Limited', 'BMRCL', 'Shramik (Worker) Special trains']\n"
     ]
    }
   ],
   "source": [
    "print(ndtv_policy_names)"
   ]
  },
  {
   "cell_type": "code",
   "execution_count": 14,
   "metadata": {},
   "outputs": [],
   "source": [
    "f = open('data/NDTVPolNames.pickle', 'wb')\n",
    "pickle.dump(ndtv_policy_names, f)\n",
    "f.close()\n",
    "\n",
    "f = open('data/HinduPolNames.pickle', 'wb')\n",
    "pickle.dump(hindu_policy_names, f)\n",
    "f.close()\n",
    "\n",
    "f = open('data/HTPolNames.pickle', 'wb')\n",
    "pickle.dump(ht_policy_names, f)\n",
    "f.close()\n",
    "\n",
    "f = open('data/IndiaNewsPolNames.pickle', 'wb')\n",
    "pickle.dump(indiaNews_policy_names, f)\n",
    "f.close()"
   ]
  }
 ],
 "metadata": {
  "interpreter": {
   "hash": "f7b67f78329eda8cd95bdc7c11cc4c3c50f7ed4842f032b2067f625bd010ed30"
  },
  "kernelspec": {
   "display_name": "Python 3.9.1 64-bit ('base': conda)",
   "name": "python3"
  },
  "language_info": {
   "codemirror_mode": {
    "name": "ipython",
    "version": 3
   },
   "file_extension": ".py",
   "mimetype": "text/x-python",
   "name": "python",
   "nbconvert_exporter": "python",
   "pygments_lexer": "ipython3",
   "version": "3.9.1"
  },
  "orig_nbformat": 4
 },
 "nbformat": 4,
 "nbformat_minor": 2
}
