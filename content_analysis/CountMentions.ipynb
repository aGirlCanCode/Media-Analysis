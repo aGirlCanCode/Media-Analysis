{
 "cells": [
  {
   "cell_type": "code",
   "execution_count": 2,
   "metadata": {},
   "outputs": [],
   "source": [
    "import pickle\n",
    "import pandas as pd\n",
    "\n",
    "from nltk import word_tokenize\n",
    "from nltk.tokenize import sent_tokenize\n",
    "\n",
    "from data import *"
   ]
  },
  {
   "cell_type": "code",
   "execution_count": 21,
   "metadata": {},
   "outputs": [],
   "source": [
    "f = open('data/CommonNounPol.pickle', 'rb')\n",
    "common_nouns_policy = pickle.load(f)\n",
    "f.close()\n",
    "\n",
    "#Merge all identified policy schemes into one list\n",
    "policy_schemes = []\n",
    "\n",
    "f = open('data/NDTVPolicySchemes.pickle', 'rb')\n",
    "ndtv_policy_schemes = pickle.load(f)\n",
    "f.close()\n",
    "f = open('data/HinduPolNames.pickle', 'rb')\n",
    "hindu_policy_schemes = pickle.load(f)\n",
    "f.close()\n",
    "f = open('data/HTPolNames.pickle', 'rb')\n",
    "ht_policy_schemes = pickle.load(f)\n",
    "f.close()\n",
    "f = open('data/IndiaNewsPolNames.pickle', 'rb')\n",
    "india_news_policy_schemes = pickle.load(f)\n",
    "f.close()\n",
    "\n",
    "for pol in ndtv_policy_schemes:\n",
    "    if pol not in policy_schemes:\n",
    "        policy_schemes.append(pol)\n",
    "for pol in hindu_policy_schemes:\n",
    "    if pol not in policy_schemes:\n",
    "        policy_schemes.append(pol)\n",
    "for pol in ht_policy_schemes:\n",
    "    if pol not in policy_schemes:\n",
    "        policy_schemes.append(pol)\n",
    "for pol in india_news_policy_schemes:\n",
    "    if pol not in policy_schemes:\n",
    "        policy_schemes.append(pol)\n"
   ]
  },
  {
   "cell_type": "code",
   "execution_count": 23,
   "metadata": {},
   "outputs": [],
   "source": [
    "f = open('data/AllPolSchemes.pickle', 'wb')\n",
    "pickle.dump(policy_schemes, f)\n",
    "f.close()"
   ]
  },
  {
   "cell_type": "code",
   "execution_count": 24,
   "metadata": {},
   "outputs": [],
   "source": [
    "f = open('data/UpdNDTVNewsText', 'rb')\n",
    "ndtv_articles = pickle.load(f)\n",
    "f.close()\n",
    "\n",
    "f = open('data/UpdHinduNewsText', 'rb')\n",
    "hindu_articles = pickle.load(f)\n",
    "f.close()\n",
    "\n",
    "f = open('data/UpdHTNewsText', 'rb')\n",
    "ht_articles = pickle.load(f)\n",
    "f.close()\n",
    "\n",
    "f = open('data/UpdIndiaNewsText', 'rb')\n",
    "indiaNews_articles = pickle.load(f)\n",
    "f.close()"
   ]
  },
  {
   "cell_type": "code",
   "execution_count": 25,
   "metadata": {},
   "outputs": [
    {
     "name": "stdout",
     "output_type": "stream",
     "text": [
      "Total Number of articles ----> 10023\n"
     ]
    }
   ],
   "source": [
    "#Get one common dict with all articles \n",
    "idx = 0\n",
    "all_articles = {}\n",
    "for _, val in ndtv_articles.items():\n",
    "    all_articles[idx] = {'Newspaper': 'NDTV', 'Date': val['Date'], 'Text': val['Text']}\n",
    "    idx += 1\n",
    "\n",
    "for _, val in hindu_articles.items():\n",
    "    all_articles[idx] = {'Newspaper': 'Hindu', 'Date': val['Date'], 'Text': val['Text']}\n",
    "    idx += 1\n",
    "\n",
    "for _, val in ht_articles.items():\n",
    "    all_articles[idx] = {'Newspaper': 'Hindustan Times', 'Date': val['Date'], 'Text': val['Text']}\n",
    "    idx += 1\n",
    "\n",
    "for _, val in indiaNews_articles.items():\n",
    "    all_articles[idx] = {'Newspaper': 'India News', 'Date': val['Date'], 'Text': val['Text']}\n",
    "    idx += 1\n",
    "\n",
    "print('Total Number of articles ---->', idx)\n",
    "total_num_articles = idx"
   ]
  },
  {
   "cell_type": "code",
   "execution_count": 26,
   "metadata": {},
   "outputs": [],
   "source": [
    "f = open('data/AllArticles.pickle', 'wb')\n",
    "pickle.dump(all_articles, f)\n",
    "f.close()"
   ]
  },
  {
   "cell_type": "code",
   "execution_count": 27,
   "metadata": {},
   "outputs": [],
   "source": [
    "def check_policy_terms(word):\n",
    "    return word in common_nouns_policy\n",
    "\n",
    "def check_policy_names(sent):\n",
    "    present = False\n",
    "    polNames = []\n",
    "    for pol in policy_schemes:\n",
    "        if pol in sent and pol not in polNames:\n",
    "            present = True\n",
    "            polNames.append(pol)\n",
    "    return polNames, present\n",
    "    "
   ]
  },
  {
   "cell_type": "code",
   "execution_count": 28,
   "metadata": {},
   "outputs": [],
   "source": [
    "policy_present_df = pd.DataFrame(columns=['Newspaper', 'Date', 'Present', 'Terms', 'Names'])"
   ]
  },
  {
   "cell_type": "code",
   "execution_count": 30,
   "metadata": {},
   "outputs": [],
   "source": [
    "for key, val in all_articles.items():\n",
    "    mentions = []\n",
    "    pol_names = []\n",
    "    text = val['Text']\n",
    "    policy_present_df.at[key, 'Newspaper'] = val['Newspaper']\n",
    "    policy_present_df.at[key, 'Date'] = val['Date']\n",
    "    policy_present_df.at[key, 'Present'] = 'False'\n",
    "    policy_present_df.at[key, 'Terms'] = 'None'\n",
    "    policy_present_df.at[key, 'Names'] = 'None'\n",
    "    tokens = word_tokenize(text)\n",
    "    for tok in tokens:\n",
    "        found = check_policy_terms(tok)\n",
    "        if (found == True) and (tok not in mentions):\n",
    "            mentions.append(tok)\n",
    "    if len(mentions) > 0:\n",
    "        policy_present_df.at[key, 'Terms'] = mentions\n",
    "    sentences = sent_tokenize(text)\n",
    "    for sent in sentences:\n",
    "        polName, present = check_policy_names(sent)\n",
    "        if present == True:\n",
    "            pol_names.extend(polName)\n",
    "    if len(pol_names) > 0:\n",
    "        policy_present_df.at[key, 'Names'] = pol_names\n",
    "    if len(mentions) > 0 or len(pol_names) > 0:\n",
    "        policy_present_df.at[key, 'Present'] = 'True'"
   ]
  },
  {
   "cell_type": "code",
   "execution_count": 31,
   "metadata": {},
   "outputs": [
    {
     "name": "stdout",
     "output_type": "stream",
     "text": [
      "Count of articles that mention policy terms and schemes -> 6213\n",
      "Count of articles that mention policy schemes -> 2609\n",
      "Count of articles that mention policy terms -> 5608\n"
     ]
    },
    {
     "data": {
      "text/html": [
       "<div>\n",
       "<style scoped>\n",
       "    .dataframe tbody tr th:only-of-type {\n",
       "        vertical-align: middle;\n",
       "    }\n",
       "\n",
       "    .dataframe tbody tr th {\n",
       "        vertical-align: top;\n",
       "    }\n",
       "\n",
       "    .dataframe thead th {\n",
       "        text-align: right;\n",
       "    }\n",
       "</style>\n",
       "<table border=\"1\" class=\"dataframe\">\n",
       "  <thead>\n",
       "    <tr style=\"text-align: right;\">\n",
       "      <th></th>\n",
       "      <th>Newspaper</th>\n",
       "      <th>Date</th>\n",
       "      <th>Present</th>\n",
       "      <th>Terms</th>\n",
       "      <th>Names</th>\n",
       "    </tr>\n",
       "  </thead>\n",
       "  <tbody>\n",
       "    <tr>\n",
       "      <th>0</th>\n",
       "      <td>NDTV</td>\n",
       "      <td>2021-03-30</td>\n",
       "      <td>True</td>\n",
       "      <td>[plan]</td>\n",
       "      <td>None</td>\n",
       "    </tr>\n",
       "    <tr>\n",
       "      <th>1</th>\n",
       "      <td>NDTV</td>\n",
       "      <td>2021-03-23</td>\n",
       "      <td>True</td>\n",
       "      <td>[measures, drive]</td>\n",
       "      <td>None</td>\n",
       "    </tr>\n",
       "    <tr>\n",
       "      <th>4</th>\n",
       "      <td>NDTV</td>\n",
       "      <td>2021-02-19</td>\n",
       "      <td>True</td>\n",
       "      <td>[programmes, programme, campaign, drives, driv...</td>\n",
       "      <td>None</td>\n",
       "    </tr>\n",
       "    <tr>\n",
       "      <th>5</th>\n",
       "      <td>NDTV</td>\n",
       "      <td>2021-01-25</td>\n",
       "      <td>True</td>\n",
       "      <td>[scheme]</td>\n",
       "      <td>None</td>\n",
       "    </tr>\n",
       "    <tr>\n",
       "      <th>7</th>\n",
       "      <td>NDTV</td>\n",
       "      <td>2020-12-31</td>\n",
       "      <td>True</td>\n",
       "      <td>[proposal, benefits, fund, plan, campaigns, sc...</td>\n",
       "      <td>None</td>\n",
       "    </tr>\n",
       "    <tr>\n",
       "      <th>...</th>\n",
       "      <td>...</td>\n",
       "      <td>...</td>\n",
       "      <td>...</td>\n",
       "      <td>...</td>\n",
       "      <td>...</td>\n",
       "    </tr>\n",
       "    <tr>\n",
       "      <th>10017</th>\n",
       "      <td>India News</td>\n",
       "      <td>2020-04-02</td>\n",
       "      <td>True</td>\n",
       "      <td>[measures, rights]</td>\n",
       "      <td>None</td>\n",
       "    </tr>\n",
       "    <tr>\n",
       "      <th>10018</th>\n",
       "      <td>India News</td>\n",
       "      <td>2020-04-02</td>\n",
       "      <td>True</td>\n",
       "      <td>[care]</td>\n",
       "      <td>None</td>\n",
       "    </tr>\n",
       "    <tr>\n",
       "      <th>10019</th>\n",
       "      <td>India News</td>\n",
       "      <td>2020-04-01</td>\n",
       "      <td>True</td>\n",
       "      <td>[measures, care]</td>\n",
       "      <td>None</td>\n",
       "    </tr>\n",
       "    <tr>\n",
       "      <th>10020</th>\n",
       "      <td>India News</td>\n",
       "      <td>2020-03-30</td>\n",
       "      <td>True</td>\n",
       "      <td>[drives]</td>\n",
       "      <td>None</td>\n",
       "    </tr>\n",
       "    <tr>\n",
       "      <th>10021</th>\n",
       "      <td>India News</td>\n",
       "      <td>2020-03-30</td>\n",
       "      <td>True</td>\n",
       "      <td>[relief]</td>\n",
       "      <td>None</td>\n",
       "    </tr>\n",
       "  </tbody>\n",
       "</table>\n",
       "<p>6213 rows × 5 columns</p>\n",
       "</div>"
      ],
      "text/plain": [
       "        Newspaper        Date Present  \\\n",
       "0            NDTV  2021-03-30    True   \n",
       "1            NDTV  2021-03-23    True   \n",
       "4            NDTV  2021-02-19    True   \n",
       "5            NDTV  2021-01-25    True   \n",
       "7            NDTV  2020-12-31    True   \n",
       "...           ...         ...     ...   \n",
       "10017  India News  2020-04-02    True   \n",
       "10018  India News  2020-04-02    True   \n",
       "10019  India News  2020-04-01    True   \n",
       "10020  India News  2020-03-30    True   \n",
       "10021  India News  2020-03-30    True   \n",
       "\n",
       "                                                   Terms Names  \n",
       "0                                                 [plan]  None  \n",
       "1                                      [measures, drive]  None  \n",
       "4      [programmes, programme, campaign, drives, driv...  None  \n",
       "5                                               [scheme]  None  \n",
       "7      [proposal, benefits, fund, plan, campaigns, sc...  None  \n",
       "...                                                  ...   ...  \n",
       "10017                                 [measures, rights]  None  \n",
       "10018                                             [care]  None  \n",
       "10019                                   [measures, care]  None  \n",
       "10020                                           [drives]  None  \n",
       "10021                                           [relief]  None  \n",
       "\n",
       "[6213 rows x 5 columns]"
      ]
     },
     "execution_count": 31,
     "metadata": {},
     "output_type": "execute_result"
    }
   ],
   "source": [
    "print(\"Count of articles that mention policy terms and schemes ->\",\n",
    "      policy_present_df[(policy_present_df['Present'] == 'True')]['Newspaper'].count())\n",
    "\n",
    "print(\"Count of articles that mention policy schemes ->\",\n",
    "      policy_present_df[(policy_present_df['Names'] != 'None')]['Newspaper'].count())\n",
    "\n",
    "print(\"Count of articles that mention policy terms ->\",\n",
    "      policy_present_df[(policy_present_df['Terms'] != 'None')]['Newspaper'].count())\n",
    " \n",
    "# dataframe of above result\n",
    "policy_present_df[(policy_present_df['Present'] == 'True')]"
   ]
  },
  {
   "cell_type": "code",
   "execution_count": 33,
   "metadata": {},
   "outputs": [
    {
     "name": "stdout",
     "output_type": "stream",
     "text": [
      "Percentage of articles that mention policy schemes -> 26.030130699391403\n",
      "Percentage of articles that mention policy terms -> 55.95131198244039\n"
     ]
    }
   ],
   "source": [
    "print(\"Percentage of articles that mention policy schemes ->\", (policy_present_df[(policy_present_df['Names'] != 'None')]['Newspaper'].count())/total_num_articles * 100)\n",
    "print(\"Percentage of articles that mention policy terms ->\", (policy_present_df[(policy_present_df['Terms'] != 'None')]['Newspaper'].count())/total_num_articles * 100)"
   ]
  },
  {
   "cell_type": "code",
   "execution_count": 34,
   "metadata": {},
   "outputs": [],
   "source": [
    "f = open('data/PolicyPresentDf.pickle', 'wb')\n",
    "pickle.dump(policy_present_df, f)\n",
    "f.close()"
   ]
  }
 ],
 "metadata": {
  "interpreter": {
   "hash": "f7b67f78329eda8cd95bdc7c11cc4c3c50f7ed4842f032b2067f625bd010ed30"
  },
  "kernelspec": {
   "display_name": "Python 3.9.1 64-bit ('base': conda)",
   "name": "python3"
  },
  "language_info": {
   "codemirror_mode": {
    "name": "ipython",
    "version": 3
   },
   "file_extension": ".py",
   "mimetype": "text/x-python",
   "name": "python",
   "nbconvert_exporter": "python",
   "pygments_lexer": "ipython3",
   "version": "3.9.1"
  },
  "orig_nbformat": 4
 },
 "nbformat": 4,
 "nbformat_minor": 2
}
