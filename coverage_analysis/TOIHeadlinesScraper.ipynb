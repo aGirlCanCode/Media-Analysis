{
 "cells": [
  {
   "cell_type": "code",
   "execution_count": 1,
   "metadata": {},
   "outputs": [],
   "source": [
    "import requests\n",
    "from bs4 import BeautifulSoup\n",
    "import pickle\n",
    "import pandas as pd"
   ]
  },
  {
   "cell_type": "code",
   "execution_count": 3,
   "metadata": {},
   "outputs": [],
   "source": [
    "f = open('TOItop10HeadlinesURL.pickle', 'rb')\n",
    "years = pickle.load(f)\n",
    "f.close()\n",
    "\n",
    "years_title = {}\n",
    "for year in years.keys():\n",
    "    monthly_titles = {}\n",
    "    for month in years[year].keys():\n",
    "        all_titles = \"\"\n",
    "        for url in years[year][month]:\n",
    "            r = requests.get(url)\n",
    "            soup = BeautifulSoup(r.content, 'html5lib')\n",
    "            titles = soup.select('.news_title')\n",
    "            for t in titles:\n",
    "                all_titles += t.text\n",
    "        monthly_titles[month] = all_titles\n",
    "    years_title[year] = monthly_titles\n",
    "\n",
    "'''Pickle the scraped titles dictionary for later use'''\n",
    "news_titles = open(\"NewsTitles.pickle\", \"wb\")\n",
    "pickle.dump(years_title, news_titles)\n",
    "news_titles.close()\n",
    "\n",
    "'''Save the Collated data in one dictionary'''\n",
    "month_list = []\n",
    "year_list = []\n",
    "news_headlines_list = []\n",
    "for year in years_title.keys():\n",
    "    for month in years_title[year].keys():\n",
    "        year_list.append(year)\n",
    "        month_list.append(month)\n",
    "        news_headlines_list.append(years_title[year][month])\n",
    "\n",
    "news_titles_dict = {'Year': year_list, 'Month': month_list, 'Headlines': news_headlines_list}\n"
   ]
  },
  {
   "cell_type": "code",
   "execution_count": 26,
   "metadata": {},
   "outputs": [
    {
     "name": "stdout",
     "output_type": "stream",
     "text": [
      "    Year      Month                                          Headlines\n",
      "0   2020      April  1. India records sharpest spike in Covid-19 ca...\n",
      "1   2020        May  1. Two more weeks, but not like before2. Speci...\n",
      "2   2020       June  1. Over 8,000 new cases; India 8th worst in th...\n",
      "3   2020       July  1. How bad did the Covid situation get in June...\n",
      "4   2020     August  1. India’s deadliest month of Covid ends2. J&K...\n",
      "5   2020  September  1. The great GDP fall may be even greater2. It...\n",
      "6   2020    October  1. No evidence so no conspiracy in Babri demol...\n",
      "7   2020   November  1. A law against a crime that doesn’t exist?2....\n",
      "8   2020   December  1. Day 6: Time to talk?2. After Nivar, Cyclone...\n",
      "9   2021    January  1. Just another cold night for protesting farm...\n",
      "10  2021   Feburary  1. As west UP farmers boost stir, unions insis...\n",
      "11  2021      March  1. Let vaccine 2.0 begin2. At least 18 killed ...\n",
      "12  2021      April  1. Pfizer says its vaccine is 100% effective i...\n"
     ]
    }
   ],
   "source": [
    "df = pd.DataFrame.from_dict(news_titles_dict)\n",
    "print(df)"
   ]
  }
 ],
 "metadata": {
  "interpreter": {
   "hash": "f7b67f78329eda8cd95bdc7c11cc4c3c50f7ed4842f032b2067f625bd010ed30"
  },
  "kernelspec": {
   "display_name": "Python 3.9.1 64-bit ('base': conda)",
   "name": "python3"
  },
  "language_info": {
   "codemirror_mode": {
    "name": "ipython",
    "version": 3
   },
   "file_extension": ".py",
   "mimetype": "text/x-python",
   "name": "python",
   "nbconvert_exporter": "python",
   "pygments_lexer": "ipython3",
   "version": "3.9.1"
  },
  "orig_nbformat": 4
 },
 "nbformat": 4,
 "nbformat_minor": 2
}
